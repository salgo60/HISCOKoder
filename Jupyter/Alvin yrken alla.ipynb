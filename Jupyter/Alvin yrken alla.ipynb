{
 "cells": [
  {
   "cell_type": "markdown",
   "id": "ece36da7",
   "metadata": {},
   "source": [
    "### Alvins yrken för alla personer "
   ]
  },
  {
   "cell_type": "markdown",
   "id": "d81af282",
   "metadata": {},
   "source": [
    "Läser alla personer från Alvin via webscrabing \n",
    "* Wikidata [P6821](https://www.wikidata.org/wiki/Property_talk:P6821)\n",
    "* [T225522](https://phabricator.wikimedia.org/T225522) \"Property Alvin P6821 created and need to be matched\"\n",
    "\n",
    "* GITHUB [salgo60/HISCOKoder](https://github.com/salgo60/HISCOKoder)\n",
    "  * this [Notebook](https://github.com/salgo60/HISCOKoder/blob/main/Jupyter/Alvin%20yrken%20version%202.ipynb)"
   ]
  },
  {
   "cell_type": "code",
   "execution_count": 1,
   "id": "b8c93bcf",
   "metadata": {},
   "outputs": [
    {
     "name": "stdout",
     "output_type": "stream",
     "text": [
      "Last run:  2021-08-15 23:48:17.662016\n"
     ]
    }
   ],
   "source": [
    "from datetime import datetime\n",
    "start_time  = datetime.now()\n",
    "print(\"Last run: \", start_time)"
   ]
  },
  {
   "cell_type": "code",
   "execution_count": null,
   "id": "673d94cf",
   "metadata": {},
   "outputs": [
    {
     "data": {
      "application/vnd.jupyter.widget-view+json": {
       "model_id": "72d90fac1c8340a5abd75c2bfd7a56fd",
       "version_major": 2,
       "version_minor": 0
      },
      "text/plain": [
       "  0%|          | 0/83000 [00:00<?, ?it/s]"
      ]
     },
     "metadata": {},
     "output_type": "display_data"
    }
   ],
   "source": [
    "import requests\n",
    "import urllib.request\n",
    "import time\n",
    "from bs4 import BeautifulSoup, NavigableString, Tag\n",
    "from tqdm.notebook import tqdm  \n",
    "\n",
    "newList = []\n",
    "urlBase = \"https://www.alvin-portal.org/alvin/view.jsf?pid=\"\n",
    "#for index, row in tqdm(total=WDAlvintot.shape[0]):    \n",
    "for i in tqdm(range(83000)):\n",
    "    alvinid = \"alvin-person:\" + str(i)\n",
    "    url = urlBase + alvinid\n",
    "#    print(url)\n",
    "    response = requests.get(url)\n",
    "    soup = BeautifulSoup(response.text, \"html.parser\")\n",
    "    for header in soup.find_all('h2'): \n",
    "        nextNode = header\n",
    "        if \"Occupation\" in header:\n",
    "            while True:\n",
    "            \n",
    "                nextNode = nextNode.nextSibling\n",
    "                if nextNode is None:\n",
    "                    break\n",
    "                if isinstance(nextNode, NavigableString):\n",
    "#                    print (alvinid,\"-\",\"\\tyrke: \",nextNode.strip())\n",
    "#                    print (alvinid,\"-\",person,\"\\tyrke: \",nextNode.strip())\n",
    "#alvin-person:1063 - Marie Curie \tyrke:  Fysiker, Radiolog, Kemist, Chemist, Physicist, kemist, fysiker\n",
    "#alvin-person:48342 - Simone de Beauvoir \tyrke:  författare, filosof, feminist\n",
    "#alvin-person:27012 - Ingmar Bergman \tyrke:  Regissör, Författare, regissör\n",
    "#alvin-person:64330 - Grazia Deledda \tyrke:  Författarinna\n",
    "#\n",
    "#\n",
    "                    newList.append(nextNode.strip())\n",
    "                    break\n",
    "\n",
    "print(\"Lines found:\\t\", len(newList))    \n",
    "# TBD\n",
    "    "
   ]
  },
  {
   "cell_type": "code",
   "execution_count": null,
   "id": "65687f71",
   "metadata": {},
   "outputs": [],
   "source": [
    "import pandas as pd\n",
    "newListdf = pd.DataFrame(newList,columns=list([\"Yrke\"]))"
   ]
  },
  {
   "cell_type": "code",
   "execution_count": null,
   "id": "898f1f0f",
   "metadata": {},
   "outputs": [],
   "source": [
    "newListdf"
   ]
  },
  {
   "cell_type": "code",
   "execution_count": null,
   "id": "043b77a1",
   "metadata": {},
   "outputs": [],
   "source": [
    "yrkendf = pd.concat([pd.Series(row['Yrke'].split(','))              \n",
    "                    for _, row in newListdf.iterrows()]).reset_index() \n",
    "yrkendf.info()"
   ]
  },
  {
   "cell_type": "code",
   "execution_count": null,
   "id": "bd20a3ec",
   "metadata": {},
   "outputs": [],
   "source": [
    "mapping = {yrkendf.columns[1]:'yrke'}\n",
    "yrkendf = yrkendf.rename(columns=mapping)\n",
    "yrkendf[\"yrke\"] = yrkendf['yrke'].str.strip()\n",
    "yrkenAlvin = yrkendf[\"yrke\"].value_counts() "
   ]
  },
  {
   "cell_type": "code",
   "execution_count": null,
   "id": "e9fd64f0",
   "metadata": {},
   "outputs": [],
   "source": [
    "import matplotlib.pyplot as plt\n",
    "plt.rcParams[\"figure.figsize\"] = (10,10)\n",
    "ax = yrkenAlvin.plot(kind='pie')\n",
    "\n",
    "ax.set_title(\"Vanligaste Yrken i Alvin\")"
   ]
  },
  {
   "cell_type": "code",
   "execution_count": null,
   "id": "8c286b90",
   "metadata": {},
   "outputs": [],
   "source": [
    "#fig = pie[0].get_figure()\n",
    "fig = ax.get_figure()\n",
    "plt.rcParams['savefig.facecolor']='white'\n",
    "fig.savefig(\"Alvin_yrken_alla_2.png\")"
   ]
  },
  {
   "cell_type": "code",
   "execution_count": null,
   "id": "0ecb6c44",
   "metadata": {},
   "outputs": [],
   "source": [
    "yrkenAlvin.to_csv(\"Alvin_yrken_value_counts_2.csv\")"
   ]
  },
  {
   "cell_type": "code",
   "execution_count": null,
   "id": "cb8c5f4b",
   "metadata": {},
   "outputs": [],
   "source": [
    "end_time  = datetime.now()\n",
    "print(\"Last run: \", end_time)"
   ]
  },
  {
   "cell_type": "code",
   "execution_count": null,
   "id": "df7356e3",
   "metadata": {},
   "outputs": [],
   "source": []
  }
 ],
 "metadata": {
  "kernelspec": {
   "display_name": "Python 3",
   "language": "python",
   "name": "python3"
  },
  "language_info": {
   "codemirror_mode": {
    "name": "ipython",
    "version": 3
   },
   "file_extension": ".py",
   "mimetype": "text/x-python",
   "name": "python",
   "nbconvert_exporter": "python",
   "pygments_lexer": "ipython3",
   "version": "3.9.4"
  }
 },
 "nbformat": 4,
 "nbformat_minor": 5
}
