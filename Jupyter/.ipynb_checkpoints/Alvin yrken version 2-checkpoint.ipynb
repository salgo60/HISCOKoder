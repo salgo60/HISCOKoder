{
 "cells": [
  {
   "cell_type": "markdown",
   "id": "ece36da7",
   "metadata": {},
   "source": [
    "### Work in progress - samla in Alvins yrken"
   ]
  },
  {
   "cell_type": "markdown",
   "id": "d81af282",
   "metadata": {},
   "source": [
    "De personer > 27000 som kopplats till Wikidata söks igenom och yrjet hämtas från Alvin via webscrabing \n",
    "* Wikidata [P6821](https://www.wikidata.org/wiki/Property_talk:P6821)\n",
    "* [T225522](https://phabricator.wikimedia.org/T225522) \"Property Alvin P6821 created and need to be matched\""
   ]
  },
  {
   "cell_type": "code",
   "execution_count": 70,
   "id": "b8c93bcf",
   "metadata": {},
   "outputs": [
    {
     "name": "stdout",
     "output_type": "stream",
     "text": [
      "Last run:  2021-08-15 10:38:57.215473\n"
     ]
    }
   ],
   "source": [
    "from datetime import datetime\n",
    "start_time  = datetime.now()\n",
    "print(\"Last run: \", start_time)"
   ]
  },
  {
   "cell_type": "code",
   "execution_count": 71,
   "id": "9f6c4629",
   "metadata": {},
   "outputs": [],
   "source": [
    "# pip install sparqlwrapper\n",
    "# https://rdflib.github.io/sparqlwrapper/\n",
    "\n",
    "import sys,json\n",
    "import pandas as pd \n",
    "\n",
    "from SPARQLWrapper import SPARQLWrapper, JSON\n",
    "\n",
    "endpoint_url = \"https://query.wikidata.org/sparql\"\n",
    "\n",
    "queryAlvin = \"\"\"SELECT ?item ?itemLabel ?alvinid WHERE {\n",
    "  ?item wdt:P6821 ?alvinid.\n",
    "  ?item wdt:P31 wd:Q5.\n",
    "  SERVICE wikibase:label { bd:serviceParam wikibase:language \"sv\". }\n",
    "} limit 30000\"\"\"\n",
    "\n",
    "def get_sparql_dataframe(endpoint_url, query):\n",
    "    \"\"\"\n",
    "    Helper function to convert SPARQL results into a Pandas data frame.\n",
    "    \"\"\"\n",
    "    user_agent = \"salgo60/%s.%s\" % (sys.version_info[0], sys.version_info[1])\n",
    " \n",
    "    sparql = SPARQLWrapper(endpoint_url, agent=user_agent)\n",
    "    sparql.setQuery(query)\n",
    "    sparql.setReturnFormat(JSON)\n",
    "    result = sparql.query()\n",
    "\n",
    "    processed_results = json.load(result.response)\n",
    "    cols = processed_results['head']['vars']\n",
    "\n",
    "    out = []\n",
    "    for row in processed_results['results']['bindings']:\n",
    "        item = []\n",
    "        for c in cols:\n",
    "            item.append(row.get(c, {}).get('value'))\n",
    "        out.append(item)\n",
    "\n",
    "    return pd.DataFrame(out, columns=cols)\n",
    "\n",
    "WDAlvintot = get_sparql_dataframe(endpoint_url, queryAlvin)\n",
    "WDAlvintot[\"Source\"] = \"Alvin\""
   ]
  },
  {
   "cell_type": "code",
   "execution_count": 73,
   "id": "9d3121fd",
   "metadata": {},
   "outputs": [
    {
     "name": "stdout",
     "output_type": "stream",
     "text": [
      "<class 'pandas.core.frame.DataFrame'>\n",
      "RangeIndex: 28370 entries, 0 to 28369\n",
      "Data columns (total 4 columns):\n",
      " #   Column     Non-Null Count  Dtype \n",
      "---  ------     --------------  ----- \n",
      " 0   item       28370 non-null  object\n",
      " 1   itemLabel  28370 non-null  object\n",
      " 2   alvinid    28370 non-null  object\n",
      " 3   Source     28370 non-null  object\n",
      "dtypes: object(4)\n",
      "memory usage: 886.7+ KB\n"
     ]
    }
   ],
   "source": [
    "WDAlvintot.info()"
   ]
  },
  {
   "cell_type": "code",
   "execution_count": 74,
   "id": "212c70e6",
   "metadata": {},
   "outputs": [
    {
     "data": {
      "text/html": [
       "<div>\n",
       "<style scoped>\n",
       "    .dataframe tbody tr th:only-of-type {\n",
       "        vertical-align: middle;\n",
       "    }\n",
       "\n",
       "    .dataframe tbody tr th {\n",
       "        vertical-align: top;\n",
       "    }\n",
       "\n",
       "    .dataframe thead th {\n",
       "        text-align: right;\n",
       "    }\n",
       "</style>\n",
       "<table border=\"1\" class=\"dataframe\">\n",
       "  <thead>\n",
       "    <tr style=\"text-align: right;\">\n",
       "      <th></th>\n",
       "      <th>item</th>\n",
       "      <th>itemLabel</th>\n",
       "      <th>alvinid</th>\n",
       "      <th>Source</th>\n",
       "    </tr>\n",
       "  </thead>\n",
       "  <tbody>\n",
       "    <tr>\n",
       "      <th>0</th>\n",
       "      <td>http://www.wikidata.org/entity/Q297</td>\n",
       "      <td>Diego Velázquez</td>\n",
       "      <td>alvin-person:61604</td>\n",
       "      <td>Alvin</td>\n",
       "    </tr>\n",
       "    <tr>\n",
       "      <th>1</th>\n",
       "      <td>http://www.wikidata.org/entity/Q619</td>\n",
       "      <td>Nicolaus Copernicus</td>\n",
       "      <td>alvin-person:12091</td>\n",
       "      <td>Alvin</td>\n",
       "    </tr>\n",
       "    <tr>\n",
       "      <th>2</th>\n",
       "      <td>http://www.wikidata.org/entity/Q747</td>\n",
       "      <td>Pierre Corneille</td>\n",
       "      <td>alvin-person:67256</td>\n",
       "      <td>Alvin</td>\n",
       "    </tr>\n",
       "    <tr>\n",
       "      <th>3</th>\n",
       "      <td>http://www.wikidata.org/entity/Q859</td>\n",
       "      <td>Platon</td>\n",
       "      <td>alvin-person:29707</td>\n",
       "      <td>Alvin</td>\n",
       "    </tr>\n",
       "    <tr>\n",
       "      <th>4</th>\n",
       "      <td>http://www.wikidata.org/entity/Q859</td>\n",
       "      <td>Platon</td>\n",
       "      <td>alvin-person:69659</td>\n",
       "      <td>Alvin</td>\n",
       "    </tr>\n",
       "  </tbody>\n",
       "</table>\n",
       "</div>"
      ],
      "text/plain": [
       "                                  item            itemLabel  \\\n",
       "0  http://www.wikidata.org/entity/Q297      Diego Velázquez   \n",
       "1  http://www.wikidata.org/entity/Q619  Nicolaus Copernicus   \n",
       "2  http://www.wikidata.org/entity/Q747     Pierre Corneille   \n",
       "3  http://www.wikidata.org/entity/Q859               Platon   \n",
       "4  http://www.wikidata.org/entity/Q859               Platon   \n",
       "\n",
       "              alvinid Source  \n",
       "0  alvin-person:61604  Alvin  \n",
       "1  alvin-person:12091  Alvin  \n",
       "2  alvin-person:67256  Alvin  \n",
       "3  alvin-person:29707  Alvin  \n",
       "4  alvin-person:69659  Alvin  "
      ]
     },
     "execution_count": 74,
     "metadata": {},
     "output_type": "execute_result"
    }
   ],
   "source": [
    "WDAlvintot.head(5)"
   ]
  },
  {
   "cell_type": "code",
   "execution_count": null,
   "id": "673d94cf",
   "metadata": {},
   "outputs": [
    {
     "data": {
      "application/vnd.jupyter.widget-view+json": {
       "model_id": "9600ec00bdec4419aa20cdb5998b36ac",
       "version_major": 2,
       "version_minor": 0
      },
      "text/plain": [
       "  0%|          | 0/28370 [00:00<?, ?it/s]"
      ]
     },
     "metadata": {},
     "output_type": "display_data"
    }
   ],
   "source": [
    "import requests\n",
    "import urllib.request\n",
    "import time\n",
    "from bs4 import BeautifulSoup, NavigableString, Tag\n",
    "from tqdm.notebook import tqdm  \n",
    "\n",
    "newList = []\n",
    "urlBase = \"https://www.alvin-portal.org/alvin/view.jsf?pid=\"\n",
    "for index, row in tqdm(WDAlvintot.iterrows(), total=WDAlvintot.shape[0]):    \n",
    "    time.sleep(5)\n",
    "    alvinid = row['alvinid']\n",
    "    person = row['itemLabel']\n",
    "    url = urlBase + alvinid\n",
    "    #print(url)\n",
    "    response = requests.get(url)\n",
    "    soup = BeautifulSoup(response.text, \"html.parser\")\n",
    "    for header in soup.find_all('h2'): \n",
    "        nextNode = header\n",
    "        if \"Occupation\" in header:\n",
    "            while True:\n",
    "            \n",
    "                nextNode = nextNode.nextSibling\n",
    "                if nextNode is None:\n",
    "                    break\n",
    "                if isinstance(nextNode, NavigableString):\n",
    "#                    print (alvinid,\"-\",person,\"\\tyrke: \",nextNode.strip())\n",
    "#alvin-person:1063 - Marie Curie \tyrke:  Fysiker, Radiolog, Kemist, Chemist, Physicist, kemist, fysiker\n",
    "#alvin-person:48342 - Simone de Beauvoir \tyrke:  författare, filosof, feminist\n",
    "#alvin-person:27012 - Ingmar Bergman \tyrke:  Regissör, Författare, regissör\n",
    "#alvin-person:64330 - Grazia Deledda \tyrke:  Författarinna\n",
    "#\n",
    "#\n",
    "                    newList.append(nextNode.strip())\n",
    "                    break\n",
    "\n",
    "print(\"Lines found:\\t\", len(newList))    \n",
    "# TBD\n",
    "    "
   ]
  },
  {
   "cell_type": "code",
   "execution_count": null,
   "id": "65687f71",
   "metadata": {},
   "outputs": [],
   "source": [
    "import pandas as pd\n",
    "newListdf = pd.DataFrame(newList,columns=list([\"Yrke\"]))"
   ]
  },
  {
   "cell_type": "code",
   "execution_count": null,
   "id": "898f1f0f",
   "metadata": {},
   "outputs": [],
   "source": [
    "newListdf"
   ]
  },
  {
   "cell_type": "code",
   "execution_count": null,
   "id": "043b77a1",
   "metadata": {},
   "outputs": [],
   "source": [
    "yrkendf = pd.concat([pd.Series(row['Yrke'].split(','))              \n",
    "                    for _, row in newListdf.iterrows()]).reset_index() \n",
    "yrkendf.info()"
   ]
  },
  {
   "cell_type": "code",
   "execution_count": null,
   "id": "bd20a3ec",
   "metadata": {},
   "outputs": [],
   "source": [
    "mapping = {yrkendf.columns[1]:'yrke'}\n",
    "yrkendf = yrkendf.rename(columns=mapping)\n",
    "yrkendf[\"yrke\"] = yrkendf['yrke'].str.strip()\n",
    "yrkenAlvin = yrkendf[\"yrke\"].value_counts() "
   ]
  },
  {
   "cell_type": "code",
   "execution_count": null,
   "id": "e9fd64f0",
   "metadata": {},
   "outputs": [],
   "source": [
    "import matplotlib.pyplot as plt\n",
    "plt.rcParams[\"figure.figsize\"] = (10,10)\n",
    "ax = yrkenAlvin.plot(kind='pie')\n",
    "\n",
    "ax.set_title(\"Vanligaste Yrken i Alvin kopplade till person i Wikidata\")"
   ]
  },
  {
   "cell_type": "code",
   "execution_count": null,
   "id": "8c286b90",
   "metadata": {},
   "outputs": [],
   "source": [
    "fig = pie[0].get_figure()\n",
    "plt.rcParams['savefig.facecolor']='white'\n",
    "fig.savefig(\"../img/Alvin_yrken.png\")"
   ]
  },
  {
   "cell_type": "code",
   "execution_count": null,
   "id": "0ecb6c44",
   "metadata": {},
   "outputs": [],
   "source": [
    "yrkenAlvin.to_csv(\"Alvin_yrken_value_counts.csv\")"
   ]
  },
  {
   "cell_type": "code",
   "execution_count": null,
   "id": "cb8c5f4b",
   "metadata": {},
   "outputs": [],
   "source": [
    "end_time  = datetime.now()\n",
    "print(\"Last run: \", end_time)"
   ]
  },
  {
   "cell_type": "code",
   "execution_count": null,
   "id": "df7356e3",
   "metadata": {},
   "outputs": [],
   "source": []
  }
 ],
 "metadata": {
  "kernelspec": {
   "display_name": "Python 3",
   "language": "python",
   "name": "python3"
  },
  "language_info": {
   "codemirror_mode": {
    "name": "ipython",
    "version": 3
   },
   "file_extension": ".py",
   "mimetype": "text/x-python",
   "name": "python",
   "nbconvert_exporter": "python",
   "pygments_lexer": "ipython3",
   "version": "3.9.4"
  }
 },
 "nbformat": 4,
 "nbformat_minor": 5
}
