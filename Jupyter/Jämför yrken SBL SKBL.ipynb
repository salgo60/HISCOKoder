{
 "cells": [
  {
   "cell_type": "markdown",
   "id": "271099fd",
   "metadata": {},
   "source": [
    "Jmf textsträngar med yrken som används i SKBL och SBL"
   ]
  },
  {
   "cell_type": "code",
   "execution_count": 1,
   "id": "b1e5bb6b",
   "metadata": {},
   "outputs": [
    {
     "name": "stdout",
     "output_type": "stream",
     "text": [
      "Last run:  2021-08-15 18:03:07.275193\n"
     ]
    }
   ],
   "source": [
    "from datetime import datetime\n",
    "start_time  = datetime.now()\n",
    "print(\"Last run: \", start_time)"
   ]
  },
  {
   "cell_type": "code",
   "execution_count": 34,
   "id": "e5bd4d38",
   "metadata": {},
   "outputs": [],
   "source": [
    "import pandas as pd\n",
    "dfSKBL = pd.read_csv(\"SKBLyrken_valuecount.csv\",names=[\"Yrke\",\"Antal\"])\n",
    "dfSKBL = dfSKBL.iloc[1: , :] # drop row1\n",
    "dfSBL = pd.read_csv(\"SBLyrken.csv\",names=[\"Yrke\"])\n",
    "dfSBL = dfSBL.iloc[1: , :] # drop row1\n",
    "#dfSBL\n",
    "#dfAlvin"
   ]
  },
  {
   "cell_type": "code",
   "execution_count": 35,
   "id": "373f8353",
   "metadata": {},
   "outputs": [
    {
     "data": {
      "text/html": [
       "<div>\n",
       "<style scoped>\n",
       "    .dataframe tbody tr th:only-of-type {\n",
       "        vertical-align: middle;\n",
       "    }\n",
       "\n",
       "    .dataframe tbody tr th {\n",
       "        vertical-align: top;\n",
       "    }\n",
       "\n",
       "    .dataframe thead th {\n",
       "        text-align: right;\n",
       "    }\n",
       "</style>\n",
       "<table border=\"1\" class=\"dataframe\">\n",
       "  <thead>\n",
       "    <tr style=\"text-align: right;\">\n",
       "      <th></th>\n",
       "      <th>Yrke</th>\n",
       "      <th>Antal</th>\n",
       "    </tr>\n",
       "  </thead>\n",
       "  <tbody>\n",
       "    <tr>\n",
       "      <th>1</th>\n",
       "      <td>Författare</td>\n",
       "      <td>208</td>\n",
       "    </tr>\n",
       "    <tr>\n",
       "      <th>2</th>\n",
       "      <td>Lärare</td>\n",
       "      <td>147</td>\n",
       "    </tr>\n",
       "    <tr>\n",
       "      <th>3</th>\n",
       "      <td>Konstnär</td>\n",
       "      <td>114</td>\n",
       "    </tr>\n",
       "    <tr>\n",
       "      <th>4</th>\n",
       "      <td>Skådespelare</td>\n",
       "      <td>80</td>\n",
       "    </tr>\n",
       "    <tr>\n",
       "      <th>5</th>\n",
       "      <td>Socialt och filantropiskt arbete</td>\n",
       "      <td>66</td>\n",
       "    </tr>\n",
       "  </tbody>\n",
       "</table>\n",
       "</div>"
      ],
      "text/plain": [
       "                               Yrke Antal\n",
       "1                        Författare   208\n",
       "2                            Lärare   147\n",
       "3                          Konstnär   114\n",
       "4                      Skådespelare    80\n",
       "5  Socialt och filantropiskt arbete    66"
      ]
     },
     "execution_count": 35,
     "metadata": {},
     "output_type": "execute_result"
    }
   ],
   "source": [
    "dfSKBL.head(5)"
   ]
  },
  {
   "cell_type": "code",
   "execution_count": 36,
   "id": "8848549e",
   "metadata": {},
   "outputs": [
    {
     "data": {
      "text/html": [
       "<div>\n",
       "<style scoped>\n",
       "    .dataframe tbody tr th:only-of-type {\n",
       "        vertical-align: middle;\n",
       "    }\n",
       "\n",
       "    .dataframe tbody tr th {\n",
       "        vertical-align: top;\n",
       "    }\n",
       "\n",
       "    .dataframe thead th {\n",
       "        text-align: right;\n",
       "    }\n",
       "</style>\n",
       "<table border=\"1\" class=\"dataframe\">\n",
       "  <thead>\n",
       "    <tr style=\"text-align: right;\">\n",
       "      <th></th>\n",
       "      <th>Yrke</th>\n",
       "    </tr>\n",
       "  </thead>\n",
       "  <tbody>\n",
       "    <tr>\n",
       "      <th>1</th>\n",
       "      <td>Abbedissa</td>\n",
       "    </tr>\n",
       "    <tr>\n",
       "      <th>2</th>\n",
       "      <td>Advokat</td>\n",
       "    </tr>\n",
       "    <tr>\n",
       "      <th>3</th>\n",
       "      <td>Affärsjurist</td>\n",
       "    </tr>\n",
       "    <tr>\n",
       "      <th>4</th>\n",
       "      <td>Affärsman</td>\n",
       "    </tr>\n",
       "    <tr>\n",
       "      <th>5</th>\n",
       "      <td>Agitator</td>\n",
       "    </tr>\n",
       "  </tbody>\n",
       "</table>\n",
       "</div>"
      ],
      "text/plain": [
       "           Yrke\n",
       "1     Abbedissa\n",
       "2       Advokat\n",
       "3  Affärsjurist\n",
       "4     Affärsman\n",
       "5      Agitator"
      ]
     },
     "execution_count": 36,
     "metadata": {},
     "output_type": "execute_result"
    }
   ],
   "source": [
    "dfSBL.head(5)"
   ]
  },
  {
   "cell_type": "code",
   "execution_count": 44,
   "id": "cf1d5a40",
   "metadata": {},
   "outputs": [
    {
     "data": {
      "text/html": [
       "<div>\n",
       "<style scoped>\n",
       "    .dataframe tbody tr th:only-of-type {\n",
       "        vertical-align: middle;\n",
       "    }\n",
       "\n",
       "    .dataframe tbody tr th {\n",
       "        vertical-align: top;\n",
       "    }\n",
       "\n",
       "    .dataframe thead th {\n",
       "        text-align: right;\n",
       "    }\n",
       "</style>\n",
       "<table border=\"1\" class=\"dataframe\">\n",
       "  <thead>\n",
       "    <tr style=\"text-align: right;\">\n",
       "      <th></th>\n",
       "      <th>Yrke</th>\n",
       "      <th>Antal</th>\n",
       "      <th>_merge</th>\n",
       "    </tr>\n",
       "  </thead>\n",
       "  <tbody>\n",
       "    <tr>\n",
       "      <th>0</th>\n",
       "      <td>Abbedissa</td>\n",
       "      <td>4</td>\n",
       "      <td>both</td>\n",
       "    </tr>\n",
       "    <tr>\n",
       "      <th>1</th>\n",
       "      <td>Advokat</td>\n",
       "      <td>NaN</td>\n",
       "      <td>left_only</td>\n",
       "    </tr>\n",
       "    <tr>\n",
       "      <th>2</th>\n",
       "      <td>Affärsjurist</td>\n",
       "      <td>NaN</td>\n",
       "      <td>left_only</td>\n",
       "    </tr>\n",
       "    <tr>\n",
       "      <th>3</th>\n",
       "      <td>Affärsman</td>\n",
       "      <td>NaN</td>\n",
       "      <td>left_only</td>\n",
       "    </tr>\n",
       "    <tr>\n",
       "      <th>4</th>\n",
       "      <td>Agitator</td>\n",
       "      <td>2</td>\n",
       "      <td>both</td>\n",
       "    </tr>\n",
       "    <tr>\n",
       "      <th>...</th>\n",
       "      <td>...</td>\n",
       "      <td>...</td>\n",
       "      <td>...</td>\n",
       "    </tr>\n",
       "    <tr>\n",
       "      <th>1061</th>\n",
       "      <td>Studieorganisatör</td>\n",
       "      <td>1</td>\n",
       "      <td>right_only</td>\n",
       "    </tr>\n",
       "    <tr>\n",
       "      <th>1062</th>\n",
       "      <td>Lotta</td>\n",
       "      <td>1</td>\n",
       "      <td>right_only</td>\n",
       "    </tr>\n",
       "    <tr>\n",
       "      <th>1063</th>\n",
       "      <td>Soldat</td>\n",
       "      <td>1</td>\n",
       "      <td>right_only</td>\n",
       "    </tr>\n",
       "    <tr>\n",
       "      <th>1064</th>\n",
       "      <td>Drottning av Sverige och Norge</td>\n",
       "      <td>1</td>\n",
       "      <td>right_only</td>\n",
       "    </tr>\n",
       "    <tr>\n",
       "      <th>1065</th>\n",
       "      <td>Författare, illustratör</td>\n",
       "      <td>1</td>\n",
       "      <td>right_only</td>\n",
       "    </tr>\n",
       "  </tbody>\n",
       "</table>\n",
       "<p>1066 rows × 3 columns</p>\n",
       "</div>"
      ],
      "text/plain": [
       "                                Yrke Antal      _merge\n",
       "0                          Abbedissa     4        both\n",
       "1                            Advokat   NaN   left_only\n",
       "2                       Affärsjurist   NaN   left_only\n",
       "3                          Affärsman   NaN   left_only\n",
       "4                           Agitator     2        both\n",
       "...                              ...   ...         ...\n",
       "1061               Studieorganisatör     1  right_only\n",
       "1062                           Lotta     1  right_only\n",
       "1063                          Soldat     1  right_only\n",
       "1064  Drottning av Sverige och Norge     1  right_only\n",
       "1065         Författare, illustratör     1  right_only\n",
       "\n",
       "[1066 rows x 3 columns]"
      ]
     },
     "execution_count": 44,
     "metadata": {},
     "output_type": "execute_result"
    }
   ],
   "source": [
    "mergeSKBL_SBL = pd.merge(dfSBL, dfSKBL,how='outer', on='Yrke',indicator=True) "
   ]
  },
  {
   "cell_type": "code",
   "execution_count": 45,
   "id": "c953bb6f",
   "metadata": {},
   "outputs": [
    {
     "data": {
      "text/html": [
       "<div>\n",
       "<style scoped>\n",
       "    .dataframe tbody tr th:only-of-type {\n",
       "        vertical-align: middle;\n",
       "    }\n",
       "\n",
       "    .dataframe tbody tr th {\n",
       "        vertical-align: top;\n",
       "    }\n",
       "\n",
       "    .dataframe thead th {\n",
       "        text-align: right;\n",
       "    }\n",
       "</style>\n",
       "<table border=\"1\" class=\"dataframe\">\n",
       "  <thead>\n",
       "    <tr style=\"text-align: right;\">\n",
       "      <th></th>\n",
       "      <th>Yrke</th>\n",
       "      <th>Antal</th>\n",
       "      <th>SBL_SKBL</th>\n",
       "    </tr>\n",
       "  </thead>\n",
       "  <tbody>\n",
       "    <tr>\n",
       "      <th>0</th>\n",
       "      <td>Abbedissa</td>\n",
       "      <td>4</td>\n",
       "      <td>both</td>\n",
       "    </tr>\n",
       "    <tr>\n",
       "      <th>1</th>\n",
       "      <td>Advokat</td>\n",
       "      <td>NaN</td>\n",
       "      <td>SBL_only</td>\n",
       "    </tr>\n",
       "    <tr>\n",
       "      <th>2</th>\n",
       "      <td>Affärsjurist</td>\n",
       "      <td>NaN</td>\n",
       "      <td>SBL_only</td>\n",
       "    </tr>\n",
       "    <tr>\n",
       "      <th>3</th>\n",
       "      <td>Affärsman</td>\n",
       "      <td>NaN</td>\n",
       "      <td>SBL_only</td>\n",
       "    </tr>\n",
       "    <tr>\n",
       "      <th>4</th>\n",
       "      <td>Agitator</td>\n",
       "      <td>2</td>\n",
       "      <td>both</td>\n",
       "    </tr>\n",
       "    <tr>\n",
       "      <th>...</th>\n",
       "      <td>...</td>\n",
       "      <td>...</td>\n",
       "      <td>...</td>\n",
       "    </tr>\n",
       "    <tr>\n",
       "      <th>1061</th>\n",
       "      <td>Studieorganisatör</td>\n",
       "      <td>1</td>\n",
       "      <td>SKBL_only</td>\n",
       "    </tr>\n",
       "    <tr>\n",
       "      <th>1062</th>\n",
       "      <td>Lotta</td>\n",
       "      <td>1</td>\n",
       "      <td>SKBL_only</td>\n",
       "    </tr>\n",
       "    <tr>\n",
       "      <th>1063</th>\n",
       "      <td>Soldat</td>\n",
       "      <td>1</td>\n",
       "      <td>SKBL_only</td>\n",
       "    </tr>\n",
       "    <tr>\n",
       "      <th>1064</th>\n",
       "      <td>Drottning av Sverige och Norge</td>\n",
       "      <td>1</td>\n",
       "      <td>SKBL_only</td>\n",
       "    </tr>\n",
       "    <tr>\n",
       "      <th>1065</th>\n",
       "      <td>Författare, illustratör</td>\n",
       "      <td>1</td>\n",
       "      <td>SKBL_only</td>\n",
       "    </tr>\n",
       "  </tbody>\n",
       "</table>\n",
       "<p>1066 rows × 3 columns</p>\n",
       "</div>"
      ],
      "text/plain": [
       "                                Yrke Antal   SBL_SKBL\n",
       "0                          Abbedissa     4       both\n",
       "1                            Advokat   NaN   SBL_only\n",
       "2                       Affärsjurist   NaN   SBL_only\n",
       "3                          Affärsman   NaN   SBL_only\n",
       "4                           Agitator     2       both\n",
       "...                              ...   ...        ...\n",
       "1061               Studieorganisatör     1  SKBL_only\n",
       "1062                           Lotta     1  SKBL_only\n",
       "1063                          Soldat     1  SKBL_only\n",
       "1064  Drottning av Sverige och Norge     1  SKBL_only\n",
       "1065         Författare, illustratör     1  SKBL_only\n",
       "\n",
       "[1066 rows x 3 columns]"
      ]
     },
     "execution_count": 45,
     "metadata": {},
     "output_type": "execute_result"
    }
   ],
   "source": [
    "mergeSKBL_SBL.rename(columns={\"_merge\": \"SBL_SKBL\"},inplace = True)\n",
    "mergeSKBL_SBL['SBL_SKBL'] = mergeSKBL_SBL['SBL_SKBL'].str.replace('left_only','SBL_only').str.replace('right_only','SKBL_only')\n",
    "mergeSKBL_SBL"
   ]
  },
  {
   "cell_type": "code",
   "execution_count": 46,
   "id": "4026b7f5",
   "metadata": {},
   "outputs": [],
   "source": [
    "mergeSKBL_SBL.to_csv(\"SKBL_SBL_yrken.csv\")"
   ]
  },
  {
   "cell_type": "code",
   "execution_count": 48,
   "id": "2e0f7ee0",
   "metadata": {},
   "outputs": [
    {
     "data": {
      "text/plain": [
       "SBL_only     837\n",
       "SKBL_only    149\n",
       "both          80\n",
       "Name: SBL_SKBL, dtype: int64"
      ]
     },
     "execution_count": 48,
     "metadata": {},
     "output_type": "execute_result"
    }
   ],
   "source": [
    "SKBLSBLpie = mergeSKBL_SBL[\"SBL_SKBL\"].value_counts()\n",
    "SKBLSBLpie"
   ]
  },
  {
   "cell_type": "code",
   "execution_count": 69,
   "id": "33a97924",
   "metadata": {},
   "outputs": [
    {
     "data": {
      "image/png": "[encoded data removed]",
      "text/plain": [
       "<Figure size 432x288 with 1 Axes>"
      ]
     },
     "metadata": {},
     "output_type": "display_data"
    }
   ],
   "source": [
    "import numpy as np\n",
    "def func(pct, allvals):\n",
    "    absolute = int(round(pct/100.*np.sum(allvals)))\n",
    "    return \"{:.1f}%\\n({:d} )\".format(pct, absolute) \n",
    "\n",
    "SKBLSBLpie.plot( kind = 'pie', autopct=lambda pct: func(pct, SKBLSBLpie), shadow=True)\n",
    "\n",
    "plt.ylabel('')\n",
    "plt.axis('equal')\n",
    "plt.title(\"Yrken i SBL / SKBL \" + start_time.strftime('%Y %m %d'))\n",
    "plt.savefig('SKBLSBLfemale.png')\n",
    "\n",
    "plt.show()"
   ]
  },
  {
   "cell_type": "code",
   "execution_count": null,
   "id": "210aa154",
   "metadata": {},
   "outputs": [],
   "source": []
  }
 ],
 "metadata": {
  "kernelspec": {
   "display_name": "Python 3",
   "language": "python",
   "name": "python3"
  },
  "language_info": {
   "codemirror_mode": {
    "name": "ipython",
    "version": 3
   },
   "file_extension": ".py",
   "mimetype": "text/x-python",
   "name": "python",
   "nbconvert_exporter": "python",
   "pygments_lexer": "ipython3",
   "version": "3.9.4"
  }
 },
 "nbformat": 4,
 "nbformat_minor": 5
}
